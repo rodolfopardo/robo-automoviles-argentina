{
 "cells": [
  {
   "cell_type": "code",
   "execution_count": 1,
   "id": "1c63483c",
   "metadata": {},
   "outputs": [],
   "source": [
    "#Importando librerias\n",
    "\n",
    "import pandas as pd\n",
    "import numpy as np \n",
    "import matplotlib.pyplot as plt\n",
    "import seaborn as sns "
   ]
  },
  {
   "cell_type": "code",
   "execution_count": 39,
   "id": "06c622a9",
   "metadata": {},
   "outputs": [],
   "source": [
    "#Configurando las visualizaciones que quiero aplicar\n",
    "\n",
    "\n",
    "sns.set(rc={'figure.figsize':(11.7,8.27)})\n",
    "sns.set_style(\"whitegrid\")"
   ]
  },
  {
   "cell_type": "code",
   "execution_count": 3,
   "id": "25ed2c8b",
   "metadata": {},
   "outputs": [],
   "source": [
    "#Leemos la base correspondiente \n",
    "\n",
    "autos = pd.read_csv('dnrpa-robos-feb.csv')"
   ]
  },
  {
   "cell_type": "markdown",
   "id": "9311dd2c",
   "metadata": {},
   "source": [
    "### Primeros conocimientos de la base "
   ]
  },
  {
   "cell_type": "code",
   "execution_count": 4,
   "id": "4b8605ca",
   "metadata": {},
   "outputs": [
    {
     "data": {
      "text/plain": [
       "(2814, 25)"
      ]
     },
     "execution_count": 4,
     "metadata": {},
     "output_type": "execute_result"
    }
   ],
   "source": [
    "#Formato de nuestra base\n",
    "\n",
    "autos.shape"
   ]
  },
  {
   "cell_type": "markdown",
   "id": "d6a242e0",
   "metadata": {},
   "source": [
    "Nuestra base contiene 25 variables a analizar con 2814 casos"
   ]
  },
  {
   "cell_type": "markdown",
   "id": "61854878",
   "metadata": {},
   "source": [
    "#### Esto significa que tenemos 2814 robos en lo que va de febrero en Argentina"
   ]
  },
  {
   "cell_type": "code",
   "execution_count": 6,
   "id": "6274093c",
   "metadata": {},
   "outputs": [
    {
     "data": {
      "text/plain": [
       "Index(['tramite_tipo', 'tramite_fecha', 'fecha_inscripcion_inicial',\n",
       "       'registro_seccional_codigo', 'registro_seccional_descripcion',\n",
       "       'registro_seccional_provincia', 'automotor_origen',\n",
       "       'automotor_anio_modelo', 'automotor_tipo_codigo',\n",
       "       'automotor_tipo_descripcion', 'automotor_marca_codigo',\n",
       "       'automotor_marca_descripcion', 'automotor_modelo_codigo',\n",
       "       'automotor_modelo_descripcion', 'automotor_uso_codigo',\n",
       "       'automotor_uso_descripcion', 'titular_tipo_persona',\n",
       "       'titular_domicilio_localidad', 'titular_domicilio_provincia',\n",
       "       'titular_genero', 'titular_anio_nacimiento', 'titular_pais_nacimiento',\n",
       "       'titular_porcentaje_titularidad', 'titular_domicilio_provincia_id',\n",
       "       'titular_pais_nacimiento_id'],\n",
       "      dtype='object')"
      ]
     },
     "execution_count": 6,
     "metadata": {},
     "output_type": "execute_result"
    }
   ],
   "source": [
    "#Columnas de nuestra base \n",
    "\n",
    "autos.columns"
   ]
  },
  {
   "cell_type": "code",
   "execution_count": 7,
   "id": "1e8addd7",
   "metadata": {},
   "outputs": [
    {
     "name": "stdout",
     "output_type": "stream",
     "text": [
      "<class 'pandas.core.frame.DataFrame'>\n",
      "RangeIndex: 2814 entries, 0 to 2813\n",
      "Data columns (total 25 columns):\n",
      " #   Column                          Non-Null Count  Dtype  \n",
      "---  ------                          --------------  -----  \n",
      " 0   tramite_tipo                    2814 non-null   object \n",
      " 1   tramite_fecha                   2814 non-null   object \n",
      " 2   fecha_inscripcion_inicial       2814 non-null   object \n",
      " 3   registro_seccional_codigo       2814 non-null   int64  \n",
      " 4   registro_seccional_descripcion  2814 non-null   object \n",
      " 5   registro_seccional_provincia    2814 non-null   object \n",
      " 6   automotor_origen                2814 non-null   object \n",
      " 7   automotor_anio_modelo           2810 non-null   float64\n",
      " 8   automotor_tipo_codigo           2721 non-null   float64\n",
      " 9   automotor_tipo_descripcion      2814 non-null   object \n",
      " 10  automotor_marca_codigo          2775 non-null   object \n",
      " 11  automotor_marca_descripcion     2814 non-null   object \n",
      " 12  automotor_modelo_codigo         2771 non-null   object \n",
      " 13  automotor_modelo_descripcion    2814 non-null   object \n",
      " 14  automotor_uso_codigo            2814 non-null   int64  \n",
      " 15  automotor_uso_descripcion       2814 non-null   object \n",
      " 16  titular_tipo_persona            2814 non-null   object \n",
      " 17  titular_domicilio_localidad     2811 non-null   object \n",
      " 18  titular_domicilio_provincia     2814 non-null   object \n",
      " 19  titular_genero                  2814 non-null   object \n",
      " 20  titular_anio_nacimiento         2814 non-null   int64  \n",
      " 21  titular_pais_nacimiento         2814 non-null   object \n",
      " 22  titular_porcentaje_titularidad  2814 non-null   int64  \n",
      " 23  titular_domicilio_provincia_id  2814 non-null   int64  \n",
      " 24  titular_pais_nacimiento_id      2647 non-null   object \n",
      "dtypes: float64(2), int64(5), object(18)\n",
      "memory usage: 549.7+ KB\n"
     ]
    }
   ],
   "source": [
    "#Breve informacion de tipos de datos\n",
    "\n",
    "autos.info()"
   ]
  },
  {
   "cell_type": "markdown",
   "id": "fa964eb7",
   "metadata": {},
   "source": [
    "Tenemos 7 variables numéricas y 15 variables categóricas"
   ]
  },
  {
   "cell_type": "code",
   "execution_count": 9,
   "id": "920f4910",
   "metadata": {},
   "outputs": [
    {
     "data": {
      "text/plain": [
       "349"
      ]
     },
     "execution_count": 9,
     "metadata": {},
     "output_type": "execute_result"
    }
   ],
   "source": [
    "autos.isnull().sum().sum()"
   ]
  },
  {
   "cell_type": "markdown",
   "id": "8b25b0bf",
   "metadata": {},
   "source": [
    "Tenemos 349 valores nulos en total en toda la base de datos, ubicados en las siguientes columnas "
   ]
  },
  {
   "cell_type": "code",
   "execution_count": 13,
   "id": "3a610cae",
   "metadata": {},
   "outputs": [
    {
     "data": {
      "text/plain": [
       "tramite_tipo                        0\n",
       "tramite_fecha                       0\n",
       "fecha_inscripcion_inicial           0\n",
       "registro_seccional_codigo           0\n",
       "registro_seccional_descripcion      0\n",
       "registro_seccional_provincia        0\n",
       "automotor_origen                    0\n",
       "automotor_anio_modelo               4\n",
       "automotor_tipo_codigo              93\n",
       "automotor_tipo_descripcion          0\n",
       "automotor_marca_codigo             39\n",
       "automotor_marca_descripcion         0\n",
       "automotor_modelo_codigo            43\n",
       "automotor_modelo_descripcion        0\n",
       "automotor_uso_codigo                0\n",
       "automotor_uso_descripcion           0\n",
       "titular_tipo_persona                0\n",
       "titular_domicilio_localidad         3\n",
       "titular_domicilio_provincia         0\n",
       "titular_genero                      0\n",
       "titular_anio_nacimiento             0\n",
       "titular_pais_nacimiento             0\n",
       "titular_porcentaje_titularidad      0\n",
       "titular_domicilio_provincia_id      0\n",
       "titular_pais_nacimiento_id        167\n",
       "dtype: int64"
      ]
     },
     "execution_count": 13,
     "metadata": {},
     "output_type": "execute_result"
    }
   ],
   "source": [
    "autos.isnull().sum()"
   ]
  },
  {
   "cell_type": "code",
   "execution_count": 14,
   "id": "e47e1d1b",
   "metadata": {},
   "outputs": [
    {
     "data": {
      "text/html": [
       "<div>\n",
       "<style scoped>\n",
       "    .dataframe tbody tr th:only-of-type {\n",
       "        vertical-align: middle;\n",
       "    }\n",
       "\n",
       "    .dataframe tbody tr th {\n",
       "        vertical-align: top;\n",
       "    }\n",
       "\n",
       "    .dataframe thead th {\n",
       "        text-align: right;\n",
       "    }\n",
       "</style>\n",
       "<table border=\"1\" class=\"dataframe\">\n",
       "  <thead>\n",
       "    <tr style=\"text-align: right;\">\n",
       "      <th></th>\n",
       "      <th>tramite_tipo</th>\n",
       "      <th>tramite_fecha</th>\n",
       "      <th>fecha_inscripcion_inicial</th>\n",
       "      <th>registro_seccional_codigo</th>\n",
       "      <th>registro_seccional_descripcion</th>\n",
       "      <th>registro_seccional_provincia</th>\n",
       "      <th>automotor_origen</th>\n",
       "      <th>automotor_anio_modelo</th>\n",
       "      <th>automotor_tipo_codigo</th>\n",
       "      <th>automotor_tipo_descripcion</th>\n",
       "      <th>...</th>\n",
       "      <th>automotor_uso_descripcion</th>\n",
       "      <th>titular_tipo_persona</th>\n",
       "      <th>titular_domicilio_localidad</th>\n",
       "      <th>titular_domicilio_provincia</th>\n",
       "      <th>titular_genero</th>\n",
       "      <th>titular_anio_nacimiento</th>\n",
       "      <th>titular_pais_nacimiento</th>\n",
       "      <th>titular_porcentaje_titularidad</th>\n",
       "      <th>titular_domicilio_provincia_id</th>\n",
       "      <th>titular_pais_nacimiento_id</th>\n",
       "    </tr>\n",
       "  </thead>\n",
       "  <tbody>\n",
       "    <tr>\n",
       "      <th>0</th>\n",
       "      <td>DENUNCIA DE ROBO O HURTO / RETENCION INDEBIDA</td>\n",
       "      <td>2022-02-17</td>\n",
       "      <td>2011-04-19</td>\n",
       "      <td>1204</td>\n",
       "      <td>MALVINAS ARGENTINAS Nº 2 (EX. SAN MIGUEL NRO. 5)</td>\n",
       "      <td>Buenos Aires</td>\n",
       "      <td>Nacional</td>\n",
       "      <td>2011.0</td>\n",
       "      <td>NaN</td>\n",
       "      <td>FURGON 800</td>\n",
       "      <td>...</td>\n",
       "      <td>Privado</td>\n",
       "      <td>Física</td>\n",
       "      <td>VILLA DE MAYO</td>\n",
       "      <td>BUENOS AIRES</td>\n",
       "      <td>Femenino</td>\n",
       "      <td>1982</td>\n",
       "      <td>ARGENTINA</td>\n",
       "      <td>100</td>\n",
       "      <td>6</td>\n",
       "      <td>ARG</td>\n",
       "    </tr>\n",
       "    <tr>\n",
       "      <th>1</th>\n",
       "      <td>DENUNCIA DE ROBO O HURTO / RETENCION INDEBIDA</td>\n",
       "      <td>2022-02-23</td>\n",
       "      <td>1990-08-02</td>\n",
       "      <td>21059</td>\n",
       "      <td>ROSARIO Nº 16</td>\n",
       "      <td>Santa Fe</td>\n",
       "      <td>Nacional</td>\n",
       "      <td>1990.0</td>\n",
       "      <td>NaN</td>\n",
       "      <td>SEDAN</td>\n",
       "      <td>...</td>\n",
       "      <td>Privado</td>\n",
       "      <td>Física</td>\n",
       "      <td>ROSARIO</td>\n",
       "      <td>SANTA FE</td>\n",
       "      <td>Masculino</td>\n",
       "      <td>1970</td>\n",
       "      <td>ARGENTINA</td>\n",
       "      <td>100</td>\n",
       "      <td>82</td>\n",
       "      <td>ARG</td>\n",
       "    </tr>\n",
       "    <tr>\n",
       "      <th>2</th>\n",
       "      <td>DENUNCIA DE ROBO O HURTO / RETENCION INDEBIDA</td>\n",
       "      <td>2022-02-15</td>\n",
       "      <td>1998-08-12</td>\n",
       "      <td>1150</td>\n",
       "      <td>AVELLANEDA Nº 3</td>\n",
       "      <td>Buenos Aires</td>\n",
       "      <td>Nacional</td>\n",
       "      <td>1998.0</td>\n",
       "      <td>NaN</td>\n",
       "      <td>MICROOMNIBUS</td>\n",
       "      <td>...</td>\n",
       "      <td>Público</td>\n",
       "      <td>Física</td>\n",
       "      <td>AVELLANEDA</td>\n",
       "      <td>BUENOS AIRES</td>\n",
       "      <td>Femenino</td>\n",
       "      <td>1958</td>\n",
       "      <td>ARGENTINA</td>\n",
       "      <td>100</td>\n",
       "      <td>6</td>\n",
       "      <td>ARG</td>\n",
       "    </tr>\n",
       "    <tr>\n",
       "      <th>3</th>\n",
       "      <td>DENUNCIA DE ROBO O HURTO / RETENCION INDEBIDA</td>\n",
       "      <td>2022-02-23</td>\n",
       "      <td>1996-02-09</td>\n",
       "      <td>21070</td>\n",
       "      <td>ROSARIO Nº 18</td>\n",
       "      <td>Santa Fe</td>\n",
       "      <td>Nacional</td>\n",
       "      <td>1996.0</td>\n",
       "      <td>NaN</td>\n",
       "      <td>BERLINA 4 PTAS</td>\n",
       "      <td>...</td>\n",
       "      <td>Privado</td>\n",
       "      <td>Física</td>\n",
       "      <td>ROSARIO</td>\n",
       "      <td>SANTA FE</td>\n",
       "      <td>Masculino</td>\n",
       "      <td>1971</td>\n",
       "      <td>ARGENTINA</td>\n",
       "      <td>100</td>\n",
       "      <td>82</td>\n",
       "      <td>ARG</td>\n",
       "    </tr>\n",
       "    <tr>\n",
       "      <th>4</th>\n",
       "      <td>DENUNCIA DE ROBO O HURTO / RETENCION INDEBIDA</td>\n",
       "      <td>2022-02-22</td>\n",
       "      <td>1999-12-23</td>\n",
       "      <td>4078</td>\n",
       "      <td>CORDOBA Nº 24</td>\n",
       "      <td>Córdoba</td>\n",
       "      <td>Nacional</td>\n",
       "      <td>1999.0</td>\n",
       "      <td>NaN</td>\n",
       "      <td>BERLINA 3 PTAS</td>\n",
       "      <td>...</td>\n",
       "      <td>Privado</td>\n",
       "      <td>Física</td>\n",
       "      <td>CORDOBA</td>\n",
       "      <td>CORDOBA</td>\n",
       "      <td>Femenino</td>\n",
       "      <td>1963</td>\n",
       "      <td>ARGENTINA</td>\n",
       "      <td>100</td>\n",
       "      <td>14</td>\n",
       "      <td>ARG</td>\n",
       "    </tr>\n",
       "  </tbody>\n",
       "</table>\n",
       "<p>5 rows × 25 columns</p>\n",
       "</div>"
      ],
      "text/plain": [
       "                                    tramite_tipo tramite_fecha  \\\n",
       "0  DENUNCIA DE ROBO O HURTO / RETENCION INDEBIDA    2022-02-17   \n",
       "1  DENUNCIA DE ROBO O HURTO / RETENCION INDEBIDA    2022-02-23   \n",
       "2  DENUNCIA DE ROBO O HURTO / RETENCION INDEBIDA    2022-02-15   \n",
       "3  DENUNCIA DE ROBO O HURTO / RETENCION INDEBIDA    2022-02-23   \n",
       "4  DENUNCIA DE ROBO O HURTO / RETENCION INDEBIDA    2022-02-22   \n",
       "\n",
       "  fecha_inscripcion_inicial  registro_seccional_codigo  \\\n",
       "0                2011-04-19                       1204   \n",
       "1                1990-08-02                      21059   \n",
       "2                1998-08-12                       1150   \n",
       "3                1996-02-09                      21070   \n",
       "4                1999-12-23                       4078   \n",
       "\n",
       "                     registro_seccional_descripcion  \\\n",
       "0  MALVINAS ARGENTINAS Nº 2 (EX. SAN MIGUEL NRO. 5)   \n",
       "1                                     ROSARIO Nº 16   \n",
       "2                                   AVELLANEDA Nº 3   \n",
       "3                                     ROSARIO Nº 18   \n",
       "4                                     CORDOBA Nº 24   \n",
       "\n",
       "  registro_seccional_provincia automotor_origen  automotor_anio_modelo  \\\n",
       "0                 Buenos Aires         Nacional                 2011.0   \n",
       "1                     Santa Fe         Nacional                 1990.0   \n",
       "2                 Buenos Aires         Nacional                 1998.0   \n",
       "3                     Santa Fe         Nacional                 1996.0   \n",
       "4                      Córdoba         Nacional                 1999.0   \n",
       "\n",
       "   automotor_tipo_codigo automotor_tipo_descripcion  ...  \\\n",
       "0                    NaN                 FURGON 800  ...   \n",
       "1                    NaN                      SEDAN  ...   \n",
       "2                    NaN               MICROOMNIBUS  ...   \n",
       "3                    NaN             BERLINA 4 PTAS  ...   \n",
       "4                    NaN             BERLINA 3 PTAS  ...   \n",
       "\n",
       "  automotor_uso_descripcion titular_tipo_persona titular_domicilio_localidad  \\\n",
       "0                   Privado               Física               VILLA DE MAYO   \n",
       "1                   Privado               Física                     ROSARIO   \n",
       "2                   Público               Física                  AVELLANEDA   \n",
       "3                   Privado               Física                     ROSARIO   \n",
       "4                   Privado               Física                     CORDOBA   \n",
       "\n",
       "  titular_domicilio_provincia  titular_genero titular_anio_nacimiento  \\\n",
       "0                BUENOS AIRES        Femenino                    1982   \n",
       "1                    SANTA FE       Masculino                    1970   \n",
       "2                BUENOS AIRES        Femenino                    1958   \n",
       "3                    SANTA FE       Masculino                    1971   \n",
       "4                     CORDOBA        Femenino                    1963   \n",
       "\n",
       "  titular_pais_nacimiento titular_porcentaje_titularidad  \\\n",
       "0               ARGENTINA                            100   \n",
       "1               ARGENTINA                            100   \n",
       "2               ARGENTINA                            100   \n",
       "3               ARGENTINA                            100   \n",
       "4               ARGENTINA                            100   \n",
       "\n",
       "  titular_domicilio_provincia_id titular_pais_nacimiento_id  \n",
       "0                              6                        ARG  \n",
       "1                             82                        ARG  \n",
       "2                              6                        ARG  \n",
       "3                             82                        ARG  \n",
       "4                             14                        ARG  \n",
       "\n",
       "[5 rows x 25 columns]"
      ]
     },
     "execution_count": 14,
     "metadata": {},
     "output_type": "execute_result"
    }
   ],
   "source": [
    "#Primer vistazo a nuestra base \n",
    "\n",
    "autos.head()"
   ]
  },
  {
   "cell_type": "markdown",
   "id": "222a88e6",
   "metadata": {},
   "source": [
    "### Limpieza de datos\n",
    "\n",
    "Se eliminan los datos correspondientes a columnas con valores nulos debido a la poca importancia que obtienen en el estudio general de robos de vehículos en Argentina."
   ]
  },
  {
   "cell_type": "code",
   "execution_count": 17,
   "id": "ca0fadda",
   "metadata": {},
   "outputs": [],
   "source": [
    "# Se realiza la limpieza total de la base \n",
    "\n",
    "autos.dropna(inplace = True)"
   ]
  },
  {
   "cell_type": "code",
   "execution_count": 18,
   "id": "fd0c9b7b",
   "metadata": {},
   "outputs": [
    {
     "data": {
      "text/plain": [
       "tramite_tipo                      0\n",
       "tramite_fecha                     0\n",
       "fecha_inscripcion_inicial         0\n",
       "registro_seccional_codigo         0\n",
       "registro_seccional_descripcion    0\n",
       "registro_seccional_provincia      0\n",
       "automotor_origen                  0\n",
       "automotor_anio_modelo             0\n",
       "automotor_tipo_codigo             0\n",
       "automotor_tipo_descripcion        0\n",
       "automotor_marca_codigo            0\n",
       "automotor_marca_descripcion       0\n",
       "automotor_modelo_codigo           0\n",
       "automotor_modelo_descripcion      0\n",
       "automotor_uso_codigo              0\n",
       "automotor_uso_descripcion         0\n",
       "titular_tipo_persona              0\n",
       "titular_domicilio_localidad       0\n",
       "titular_domicilio_provincia       0\n",
       "titular_genero                    0\n",
       "titular_anio_nacimiento           0\n",
       "titular_pais_nacimiento           0\n",
       "titular_porcentaje_titularidad    0\n",
       "titular_domicilio_provincia_id    0\n",
       "titular_pais_nacimiento_id        0\n",
       "dtype: int64"
      ]
     },
     "execution_count": 18,
     "metadata": {},
     "output_type": "execute_result"
    }
   ],
   "source": [
    "#Chequeamos que no tengamos valores nulos en nuestra base \n",
    "\n",
    "autos.isnull().sum()"
   ]
  },
  {
   "cell_type": "code",
   "execution_count": 21,
   "id": "d1046216",
   "metadata": {},
   "outputs": [],
   "source": [
    "### Corregimos el valor de fecha para obtener resultados en un timeseries \n",
    "\n",
    "autos['tramite_fecha'] = pd.to_datetime(autos['tramite_fecha'])"
   ]
  },
  {
   "cell_type": "markdown",
   "id": "a3da48f8",
   "metadata": {},
   "source": [
    "### Primeros datos "
   ]
  },
  {
   "cell_type": "markdown",
   "id": "47bd2730",
   "metadata": {},
   "source": [
    "#### Cantidad de casos por día"
   ]
  },
  {
   "cell_type": "code",
   "execution_count": 54,
   "id": "87d4568e",
   "metadata": {},
   "outputs": [],
   "source": [
    "robos_por_dia = autos.groupby('tramite_fecha')['titular_genero'].count().to_frame()"
   ]
  },
  {
   "cell_type": "code",
   "execution_count": 55,
   "id": "7ec3cc54",
   "metadata": {},
   "outputs": [],
   "source": [
    "robos_por_dia.reset_index(inplace = True)"
   ]
  },
  {
   "cell_type": "code",
   "execution_count": 64,
   "id": "231930be",
   "metadata": {},
   "outputs": [
    {
     "data": {
      "image/png": "[encoded data removed]",
      "text/plain": [
       "<Figure size 842.4x595.44 with 1 Axes>"
      ]
     },
     "metadata": {},
     "output_type": "display_data"
    }
   ],
   "source": [
    "#Graficando casos diarios\n",
    "\n",
    "sns.lineplot(data = robos_por_dia, x = \"tramite_fecha\", y = \"titular_genero\")\n",
    "plt.title('Cantidad de robos de autos por día en Argentina durante el mes de Febrero 2022', fontsize = 20)\n",
    "plt.xlabel('Fecha')\n",
    "plt.ylabel('Cantidad de robos')\n",
    "plt.show()"
   ]
  },
  {
   "cell_type": "markdown",
   "id": "c7aae79e",
   "metadata": {},
   "source": [
    "Se observa un comportamiento extraño el dia 28 de febrero o la perdida en la carga de información por parte de la base de origen prevista por Datos.gob.ar"
   ]
  },
  {
   "cell_type": "code",
   "execution_count": 68,
   "id": "10a54493",
   "metadata": {},
   "outputs": [
    {
     "data": {
      "text/html": [
       "<div>\n",
       "<style scoped>\n",
       "    .dataframe tbody tr th:only-of-type {\n",
       "        vertical-align: middle;\n",
       "    }\n",
       "\n",
       "    .dataframe tbody tr th {\n",
       "        vertical-align: top;\n",
       "    }\n",
       "\n",
       "    .dataframe thead th {\n",
       "        text-align: right;\n",
       "    }\n",
       "</style>\n",
       "<table border=\"1\" class=\"dataframe\">\n",
       "  <thead>\n",
       "    <tr style=\"text-align: right;\">\n",
       "      <th></th>\n",
       "      <th>titular_genero</th>\n",
       "    </tr>\n",
       "  </thead>\n",
       "  <tbody>\n",
       "    <tr>\n",
       "      <th>count</th>\n",
       "      <td>20.000000</td>\n",
       "    </tr>\n",
       "    <tr>\n",
       "      <th>mean</th>\n",
       "      <td>127.400000</td>\n",
       "    </tr>\n",
       "    <tr>\n",
       "      <th>std</th>\n",
       "      <td>31.026983</td>\n",
       "    </tr>\n",
       "    <tr>\n",
       "      <th>min</th>\n",
       "      <td>1.000000</td>\n",
       "    </tr>\n",
       "    <tr>\n",
       "      <th>25%</th>\n",
       "      <td>127.750000</td>\n",
       "    </tr>\n",
       "    <tr>\n",
       "      <th>50%</th>\n",
       "      <td>132.500000</td>\n",
       "    </tr>\n",
       "    <tr>\n",
       "      <th>75%</th>\n",
       "      <td>138.500000</td>\n",
       "    </tr>\n",
       "    <tr>\n",
       "      <th>max</th>\n",
       "      <td>156.000000</td>\n",
       "    </tr>\n",
       "  </tbody>\n",
       "</table>\n",
       "</div>"
      ],
      "text/plain": [
       "       titular_genero\n",
       "count       20.000000\n",
       "mean       127.400000\n",
       "std         31.026983\n",
       "min          1.000000\n",
       "25%        127.750000\n",
       "50%        132.500000\n",
       "75%        138.500000\n",
       "max        156.000000"
      ]
     },
     "execution_count": 68,
     "metadata": {},
     "output_type": "execute_result"
    }
   ],
   "source": [
    "robos_por_dia.describe()"
   ]
  },
  {
   "cell_type": "markdown",
   "id": "5e7ef163",
   "metadata": {},
   "source": [
    ". En Argentina se robaron en febrero unos **127** vehículos por día promedio </br>\n",
    ". El valor máximo de robos se registró el **día 02 de febrero** con un valor de **156** vehículos por día "
   ]
  },
  {
   "cell_type": "markdown",
   "id": "cdcd3aa8",
   "metadata": {},
   "source": [
    "### Cantidad de robos registrados por provincia"
   ]
  },
  {
   "cell_type": "code",
   "execution_count": 75,
   "id": "b4671439",
   "metadata": {},
   "outputs": [
    {
     "data": {
      "image/png": "[encoded data removed]",
      "text/plain": [
       "<Figure size 842.4x595.44 with 1 Axes>"
      ]
     },
     "metadata": {},
     "output_type": "display_data"
    }
   ],
   "source": [
    "autos.registro_seccional_provincia.value_counts().plot.bar()\n",
    "plt.title('Robos registrados por provincia - Febrero 2022 ', fontsize = 20)\n",
    "plt.xlabel('Provincias')\n",
    "plt.ylabel('Casos registrados')\n",
    "plt.show()"
   ]
  },
  {
   "cell_type": "markdown",
   "id": "4eca1463",
   "metadata": {},
   "source": [
    "Buenos Aires registra la mayor cantidad de casos con 1695 casos. Lo siguen CABA, Córdoba y Mendoza."
   ]
  },
  {
   "cell_type": "code",
   "execution_count": 71,
   "id": "4c32dff5",
   "metadata": {},
   "outputs": [
    {
     "data": {
      "text/plain": [
       "Buenos Aires                 0.665228\n",
       "Ciudad Autónoma de Bs.As.    0.109105\n",
       "Córdoba                      0.087127\n",
       "Mendoza                      0.056907\n",
       "Santa Fe                     0.047881\n",
       "Río Negro                    0.005495\n",
       "Neuquén                      0.005102\n",
       "Entre Ríos                   0.003925\n",
       "Corrientes                   0.003140\n",
       "Chubut                       0.002355\n",
       "Tucumán                      0.001570\n",
       "Jujuy                        0.001570\n",
       "Misiones                     0.001177\n",
       "La Rioja                     0.001177\n",
       "Formosa                      0.001177\n",
       "Santa Cruz                   0.001177\n",
       "Santiago del Estero          0.001177\n",
       "La Pampa                     0.001177\n",
       "Tierra del Fuego             0.000785\n",
       "Chaco                        0.000785\n",
       "San Luis                     0.000785\n",
       "Salta                        0.000392\n",
       "Catamarca                    0.000392\n",
       "San Juan                     0.000392\n",
       "Name: registro_seccional_provincia, dtype: float64"
      ]
     },
     "execution_count": 71,
     "metadata": {},
     "output_type": "execute_result"
    }
   ],
   "source": [
    "autos.registro_seccional_provincia.value_counts(normalize = True)"
   ]
  },
  {
   "cell_type": "markdown",
   "id": "18834630",
   "metadata": {},
   "source": [
    "**Mendoza** ocupa el cuarto lugar con un 5.6% de los robos registrados en todo el país"
   ]
  },
  {
   "cell_type": "markdown",
   "id": "08200fd9",
   "metadata": {},
   "source": [
    "### Modelos de autos robados en Argentina"
   ]
  },
  {
   "cell_type": "code",
   "execution_count": 92,
   "id": "fd0f4cec",
   "metadata": {},
   "outputs": [
    {
     "data": {
      "text/plain": [
       "2013.0    153\n",
       "2011.0    147\n",
       "2012.0    145\n",
       "2010.0    136\n",
       "2008.0    135\n",
       "Name: automotor_anio_modelo, dtype: int64"
      ]
     },
     "execution_count": 92,
     "metadata": {},
     "output_type": "execute_result"
    }
   ],
   "source": [
    "autos['automotor_anio_modelo'].value_counts().head(5)"
   ]
  },
  {
   "cell_type": "markdown",
   "id": "a062d4fc",
   "metadata": {},
   "source": [
    "Los modelos más elegidos por los delincuentes durante febrero 2022 fueron los autos modelo 2013, 2011, 2012, 2010 y 2008. Los modelos actuales parecen no estar en la mira de los delincuentes. "
   ]
  },
  {
   "cell_type": "markdown",
   "id": "fde02a7f",
   "metadata": {},
   "source": [
    "### Top 10 - Marcas de automóviles con mayor cantidad de robos"
   ]
  },
  {
   "cell_type": "code",
   "execution_count": 99,
   "id": "606c1013",
   "metadata": {},
   "outputs": [
    {
     "data": {
      "image/png": "[encoded data removed]",
      "text/plain": [
       "<Figure size 842.4x595.44 with 1 Axes>"
      ]
     },
     "metadata": {},
     "output_type": "display_data"
    }
   ],
   "source": [
    "autos.automotor_marca_descripcion.value_counts().head(10).plot.bar()\n",
    "plt.title('Marcas de automotores con mayor cantidad de robos Febrero 2022', fontsize= 20)\n",
    "plt.xlabel(\"Marcas\")\n",
    "plt.ylabel('Cantidad de robos')\n",
    "plt.show()"
   ]
  },
  {
   "cell_type": "markdown",
   "id": "d3cbbf77",
   "metadata": {},
   "source": [
    "Sin duda algunas , la marca alemana VW lidera el ranking acompañado por FIAT y Renault que cierran el top 3. Lo siguen Chevrolet, Ford y Peugeot. "
   ]
  },
  {
   "cell_type": "markdown",
   "id": "88122956",
   "metadata": {},
   "source": [
    "### Los 10 autos más robados en Argentina durante febrero 2022"
   ]
  },
  {
   "cell_type": "code",
   "execution_count": 104,
   "id": "06f09769",
   "metadata": {},
   "outputs": [
    {
     "data": {
      "text/plain": [
       "GOL 1.6                           47\n",
       "GOL TREND 1.6                     35\n",
       "FOX 1.6                           26\n",
       "VOYAGE 1.6                        23\n",
       "CLASSIC 4 P LS ABS+AIRBAG 1.4N    22\n",
       "FIORINO FIRE 1242 MPI 8V          19\n",
       "RENAULT 9 RL                      18\n",
       "KA                                18\n",
       "GOL GL                            17\n",
       "GOL 1.4 L                         16\n",
       "Name: automotor_modelo_descripcion, dtype: int64"
      ]
     },
     "execution_count": 104,
     "metadata": {},
     "output_type": "execute_result"
    }
   ],
   "source": [
    "autos.automotor_modelo_descripcion.value_counts().head(10)"
   ]
  },
  {
   "cell_type": "markdown",
   "id": "8c92127a",
   "metadata": {},
   "source": [
    "1. Gol 1.6 Classic\n",
    "2. Gol Trend 1.6 \n",
    "3. Fox 1.6 \n",
    "4. Voyage 1.6 \n",
    "5. Corsa Classic 4p \n",
    "6. Fiorino Fire\n",
    "\n",
    "Se observa la hegemonía de la marca alemana Volkswagen en el modelo de autos robados en Argentina durante febrero 2022"
   ]
  },
  {
   "cell_type": "markdown",
   "id": "aac6977e",
   "metadata": {},
   "source": [
    "### Todo sobre las víctimas de robos en Argentina"
   ]
  },
  {
   "cell_type": "code",
   "execution_count": 108,
   "id": "8e9a2e87",
   "metadata": {},
   "outputs": [
    {
     "data": {
      "text/plain": [
       "Masculino          0.527865\n",
       "Femenino           0.272763\n",
       "No identificado    0.199372\n",
       "Name: titular_genero, dtype: float64"
      ]
     },
     "execution_count": 108,
     "metadata": {},
     "output_type": "execute_result"
    }
   ],
   "source": [
    "autos.titular_genero.value_counts(normalize = True)"
   ]
  },
  {
   "cell_type": "markdown",
   "id": "c437443a",
   "metadata": {},
   "source": [
    "El **52%** de los robos registrados en Argentina, las víctimas son de género masculino. El **27%** son mujeres y el **19%** no se identificaron. "
   ]
  },
  {
   "cell_type": "code",
   "execution_count": 111,
   "id": "fc8817b2",
   "metadata": {},
   "outputs": [
    {
     "name": "stderr",
     "output_type": "stream",
     "text": [
      "/opt/anaconda3/lib/python3.9/site-packages/seaborn/_decorators.py:36: FutureWarning: Pass the following variable as a keyword arg: x. From version 0.12, the only valid positional argument will be `data`, and passing other arguments without an explicit keyword will result in an error or misinterpretation.\n",
      "  warnings.warn(\n"
     ]
    },
    {
     "data": {
      "image/png": "[encoded data removed]",
      "text/plain": [
       "<Figure size 842.4x595.44 with 1 Axes>"
      ]
     },
     "metadata": {},
     "output_type": "display_data"
    }
   ],
   "source": [
    "sns.boxplot(autos.titular_anio_nacimiento)\n",
    "plt.title(\"Distribución de robos por año de nacimiento de la víctima\", fontsize = 20);"
   ]
  },
  {
   "cell_type": "markdown",
   "id": "30e945a2",
   "metadata": {},
   "source": [
    "Se observa que la concentración de robos se da en víctimas que tienen como año de nacimiento entre 1970 a 1990. Son casos ailsados los registrados a personas de tercera edad por debajo de 1940. "
   ]
  },
  {
   "cell_type": "markdown",
   "id": "3a96ebc1",
   "metadata": {},
   "source": [
    "## Mendoza "
   ]
  },
  {
   "cell_type": "markdown",
   "id": "d9691ed9",
   "metadata": {},
   "source": [
    "### Autos más robados en Mendoza "
   ]
  },
  {
   "cell_type": "code",
   "execution_count": 114,
   "id": "33c6ce7f",
   "metadata": {},
   "outputs": [],
   "source": [
    "mendoza = autos[autos['registro_seccional_provincia'] == \"Mendoza\"]"
   ]
  },
  {
   "cell_type": "code",
   "execution_count": 116,
   "id": "ba7708d3",
   "metadata": {},
   "outputs": [
    {
     "data": {
      "text/plain": [
       "KA                    3\n",
       "VW SENDA              2\n",
       "206 XRD PREMIUM 5P    2\n",
       "GOL 1.4 L             2\n",
       "GOL 1.6               2\n",
       "Name: automotor_modelo_descripcion, dtype: int64"
      ]
     },
     "execution_count": 116,
     "metadata": {},
     "output_type": "execute_result"
    }
   ],
   "source": [
    "mendoza.automotor_modelo_descripcion.value_counts().head(5)"
   ]
  },
  {
   "cell_type": "markdown",
   "id": "d8722197",
   "metadata": {},
   "source": [
    "A diferencia de la Nación, en **Mendoza**, el **FORD KA** es el auto más robado durante febrero 2022 seguidos por el Peugeot 206 y VW Gol en sus diferentes modelos.  "
   ]
  },
  {
   "cell_type": "code",
   "execution_count": 118,
   "id": "db2dd11c",
   "metadata": {},
   "outputs": [
    {
     "data": {
      "text/plain": [
       "Masculino          0.468966\n",
       "Femenino           0.351724\n",
       "No identificado    0.179310\n",
       "Name: titular_genero, dtype: float64"
      ]
     },
     "execution_count": 118,
     "metadata": {},
     "output_type": "execute_result"
    }
   ],
   "source": [
    "mendoza.titular_genero.value_counts(normalize= True)"
   ]
  },
  {
   "cell_type": "markdown",
   "id": "03c83823",
   "metadata": {},
   "source": [
    "El género femenino es víctima por encima de los 8 puntos porcentuales si lo comparamos con el porcentaje arrojado en Argentina por lo que este género es seriamente perjudicado en la provincia. "
   ]
  },
  {
   "cell_type": "code",
   "execution_count": 122,
   "id": "f4a39836",
   "metadata": {},
   "outputs": [
    {
     "data": {
      "text/plain": [
       "GODOY CRUZ          0.096552\n",
       "VILLA NUEVA         0.068966\n",
       "LAS HERAS           0.062069\n",
       "DORREGO             0.048276\n",
       "RODEO DE LA CRUZ    0.034483\n",
       "EL CHALLAO          0.034483\n",
       "CIUDAD              0.034483\n",
       "LUZURIAGA           0.027586\n",
       "EL ZAPALLAR         0.027586\n",
       "PANQUEHUA           0.027586\n",
       "Name: titular_domicilio_localidad, dtype: float64"
      ]
     },
     "execution_count": 122,
     "metadata": {},
     "output_type": "execute_result"
    }
   ],
   "source": [
    "mendoza.titular_domicilio_localidad.value_counts(normalize= True).head(10)"
   ]
  },
  {
   "cell_type": "markdown",
   "id": "3d0b394e",
   "metadata": {},
   "source": [
    "Godoy Cruz, Villa Nueva (Guaymallén) y Las Heras ciudad son las localidades con mayor cantidad de robos de automoviles en Mendoza. Lo siguen de cerca otras dos localidades de Guaymallén como Dorrego y Rodeo de la Cruz."
   ]
  },
  {
   "cell_type": "code",
   "execution_count": null,
   "id": "f91e0d0f",
   "metadata": {},
   "outputs": [],
   "source": []
  }
 ],
 "metadata": {
  "kernelspec": {
   "display_name": "Python 3 (ipykernel)",
   "language": "python",
   "name": "python3"
  },
  "language_info": {
   "codemirror_mode": {
    "name": "ipython",
    "version": 3
   },
   "file_extension": ".py",
   "mimetype": "text/x-python",
   "name": "python",
   "nbconvert_exporter": "python",
   "pygments_lexer": "ipython3",
   "version": "3.9.7"
  }
 },
 "nbformat": 4,
 "nbformat_minor": 5
}
